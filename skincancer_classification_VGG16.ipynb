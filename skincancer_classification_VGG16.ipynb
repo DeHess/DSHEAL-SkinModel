{
 "cells": [
  {
   "cell_type": "code",
   "execution_count": 12,
   "metadata": {},
   "outputs": [],
   "source": [
    "import torch\n",
    "import torch.nn as nn\n",
    "import torch.optim as optim\n",
    "import torchvision.transforms as transforms\n",
    "import torchvision.models as models\n",
    "from torch.utils.data import Dataset, DataLoader\n",
    "from PIL import Image\n",
    "import pandas as pd\n",
    "import os\n",
    "import numpy as np\n",
    "from sklearn.metrics import accuracy_score, precision_score, recall_score, f1_score\n",
    "import seaborn as sns\n",
    "import matplotlib.pyplot as plt\n"
   ]
  },
  {
   "cell_type": "code",
   "execution_count": 31,
   "metadata": {},
   "outputs": [
    {
     "name": "stdout",
     "output_type": "stream",
     "text": [
      "              image  MEL\n",
      "0  ISIC_0000000.jpg  0.0\n",
      "1  ISIC_0000001.jpg  0.0\n",
      "2  ISIC_0000002.jpg  1.0\n",
      "3  ISIC_0000003.jpg  0.0\n",
      "4  ISIC_0000004.jpg  1.0\n"
     ]
    }
   ],
   "source": [
    "# Datenpfade\n",
    "IMAGE_DIR = \"C:\\\\Users\\\\gabri\\\\OneDrive\\\\Studium\\\\kurse\\\\6_Semester\\\\dshealth\\\\MelanomaClassification\\\\ISIC_2019_Training_Input\\\\ISIC_2019_Training_Input\"\n",
    "LABELS_CSV = \"C:\\\\Users\\\\gabri\\\\OneDrive\\\\Studium\\\\kurse\\\\6_Semester\\\\dshealth\\\\MelanomaClassification\\\\ISIC_2019_Training_GroundTruth.csv\"\n",
    "\n",
    "\n",
    "# CSV-Datei einlesen\n",
    "df = pd.read_csv(LABELS_CSV)\n",
    "df = df[['image', 'MEL']]  # Nur Melanom-Labels behalten\n",
    "df['image'] = df['image'] + \".jpg\"  # Bildnamen anpassen (falls nötig)\n",
    "\n",
    "print(df.head())  # Ersten paar Zeilen anzeigen\n",
    "\n"
   ]
  },
  {
   "cell_type": "markdown",
   "metadata": {},
   "source": []
  },
  {
   "cell_type": "code",
   "execution_count": 32,
   "metadata": {},
   "outputs": [
    {
     "name": "stdout",
     "output_type": "stream",
     "text": [
      "Train: 20264, Validierung: 5067\n"
     ]
    }
   ],
   "source": [
    "# Transformationen für Bilder (VGG16 erwartet bestimmte Normalisierung)\n",
    "transform = transforms.Compose([\n",
    "    transforms.Resize((224, 224)),  \n",
    "    transforms.RandomHorizontalFlip(),  \n",
    "    transforms.RandomRotation(30),  \n",
    "    transforms.ColorJitter(brightness=0.2, contrast=0.2),\n",
    "    transforms.ToTensor(),\n",
    "    transforms.Normalize(mean=[0.485, 0.456, 0.406], std=[0.229, 0.224, 0.225])\n",
    "])\n",
    "\n",
    "# Eigene Dataset-Klasse für PyTorch\n",
    "class SkinCancerDataset(Dataset):\n",
    "    def __init__(self, dataframe, image_dir, transform=None):\n",
    "        self.dataframe = dataframe\n",
    "        self.image_dir = image_dir\n",
    "        self.transform = transform\n",
    "\n",
    "    def __len__(self):\n",
    "        return len(self.dataframe)\n",
    "\n",
    "    def __getitem__(self, idx):\n",
    "        img_name = os.path.join(self.image_dir, self.dataframe.iloc[idx, 0])\n",
    "        image = Image.open(img_name).convert(\"RGB\")  # Bild laden\n",
    "        label = torch.tensor(float(self.dataframe.iloc[idx, 1]))  # 0 oder 1\n",
    "\n",
    "        if self.transform:\n",
    "            image = self.transform(image)\n",
    "\n",
    "        return image, label\n",
    "\n",
    "# Dataset laden\n",
    "dataset = SkinCancerDataset(df, IMAGE_DIR, transform=transform)\n",
    "\n",
    "# Split in Training (80%) & Validierung (20%)\n",
    "train_size = int(0.8 * len(dataset))\n",
    "val_size = len(dataset) - train_size\n",
    "train_dataset, val_dataset = torch.utils.data.random_split(dataset, [train_size, val_size])\n",
    "\n",
    "# DataLoader für Batch-Verarbeitung\n",
    "train_loader = DataLoader(train_dataset, batch_size=32, shuffle=True)\n",
    "val_loader = DataLoader(val_dataset, batch_size=32, shuffle=False)\n",
    "\n",
    "print(f\"Train: {len(train_dataset)}, Validierung: {len(val_dataset)}\")\n"
   ]
  },
  {
   "cell_type": "code",
   "execution_count": 40,
   "metadata": {},
   "outputs": [
    {
     "name": "stdout",
     "output_type": "stream",
     "text": [
      "Using device: cuda\n"
     ]
    }
   ],
   "source": [
    "# Prüfen, ob CUDA (GPU) verfügbar ist\n",
    "device = torch.device(\"cuda\" if torch.cuda.is_available() else \"cpu\")\n",
    "print(f\"Using device: {device}\")  # Prints \"cuda\" if GPU is available, otherwise \"cpu\"\n",
    "\n",
    "# VGG16-Modell laden (vortrainiert auf ImageNet)\n",
    "model = models.vgg16(pretrained=True)\n",
    "\n",
    "# Letzte Schicht für binäre Klassifikation anpassen\n",
    "model.classifier[6] = nn.Sequential(\n",
    "    nn.Linear(4096, 1),  # 1 Neuron für binäre Klassifikation\n",
    "    nn.Sigmoid()\n",
    ")\n",
    "\n",
    "model = model.to(device)  # Modell auf GPU/CPU verschieben\n"
   ]
  },
  {
   "cell_type": "code",
   "execution_count": 41,
   "metadata": {},
   "outputs": [],
   "source": [
    "criterion = nn.BCELoss()  # Binary Cross Entropy Loss\n",
    "optimizer = optim.Adam(model.parameters(), lr=0.0001)  # Learning Rate 0.0001\n"
   ]
  },
  {
   "cell_type": "code",
   "execution_count": null,
   "metadata": {},
   "outputs": [
    {
     "name": "stdout",
     "output_type": "stream",
     "text": [
      "Epoch 1/5, Loss: 0.3896, Validation Acc: 0.8411\n",
      "Epoch 2/5, Loss: 0.3539, Validation Acc: 0.8461\n"
     ]
    }
   ],
   "source": [
    "epochs = 5\n",
    "best_acc = 0.0\n",
    "\n",
    "for epoch in range(epochs):\n",
    "    model.train()\n",
    "    running_loss = 0.0\n",
    "\n",
    "    for images, labels in train_loader:\n",
    "        images, labels = images.to(device), labels.to(device).float().view(-1, 1)\n",
    "\n",
    "        optimizer.zero_grad()\n",
    "        outputs = model(images)\n",
    "        loss = criterion(outputs, labels)\n",
    "        loss.backward()\n",
    "        optimizer.step()\n",
    "\n",
    "        running_loss += loss.item()\n",
    "\n",
    "    # Validierung\n",
    "    model.eval()\n",
    "    correct, total = 0, 0\n",
    "\n",
    "    with torch.no_grad():\n",
    "        for images, labels in val_loader:\n",
    "            images, labels = images.to(device), labels.to(device).float().view(-1, 1)\n",
    "\n",
    "            outputs = model(images)\n",
    "            predicted = (outputs > 0.5).float()  # Schwelle bei 0.5\n",
    "\n",
    "            correct += (predicted == labels).sum().item()\n",
    "            total += labels.size(0)\n",
    "\n",
    "    acc = correct / total\n",
    "\n",
    "    print(f\"Epoch {epoch+1}/{epochs}, Loss: {running_loss/len(train_loader):.4f}, Validation Acc: {acc:.4f}\")\n",
    "\n",
    "    # Bestes Modell speichern\n",
    "    if acc > best_acc:\n",
    "        best_acc = acc\n",
    "        torch.save(model.state_dict(), \"best_melanoma_vgg16.pth\")\n",
    "\n",
    "print(\"Training abgeschlossen!\")\n"
   ]
  },
  {
   "cell_type": "code",
   "execution_count": null,
   "metadata": {},
   "outputs": [],
   "source": [
    "# Modell in den Evaluationsmodus setzen\n",
    "model.eval()\n",
    "\n",
    "# Listen zur Speicherung der echten Labels und Vorhersagen\n",
    "all_labels = []\n",
    "all_preds = []\n",
    "\n",
    "with torch.no_grad():\n",
    "    for images, labels in val_loader:\n",
    "        images, labels = images.to(device), labels.to(device).float().view(-1, 1)\n",
    "\n",
    "        outputs = model(images)\n",
    "        predicted = (outputs > 0.5).float()  # Schwelle bei 0.5\n",
    "\n",
    "        # Labels & Vorhersagen speichern\n",
    "        all_labels.extend(labels.cpu().numpy())\n",
    "        all_preds.extend(predicted.cpu().numpy())\n",
    "\n",
    "# In NumPy-Arrays umwandeln\n",
    "all_labels = np.array(all_labels)\n",
    "all_preds = np.array(all_preds)\n",
    "\n",
    "# Metriken berechnen\n",
    "accuracy = accuracy_score(all_labels, all_preds)\n",
    "precision = precision_score(all_labels, all_preds)\n",
    "recall = recall_score(all_labels, all_preds)\n",
    "f1 = f1_score(all_labels, all_preds)\n",
    "\n",
    "# Ergebnisse ausgeben\n",
    "print(f\"✅ Accuracy: {accuracy:.4f}\")\n",
    "print(f\"✅ Precision: {precision:.4f}\")\n",
    "print(f\"✅ Recall: {recall:.4f}\")\n",
    "print(f\"✅ F1-Score: {f1:.4f}\")\n"
   ]
  }
 ],
 "metadata": {
  "kernelspec": {
   "display_name": "Python 3",
   "language": "python",
   "name": "python3"
  },
  "language_info": {
   "codemirror_mode": {
    "name": "ipython",
    "version": 3
   },
   "file_extension": ".py",
   "mimetype": "text/x-python",
   "name": "python",
   "nbconvert_exporter": "python",
   "pygments_lexer": "ipython3",
   "version": "3.11.6"
  }
 },
 "nbformat": 4,
 "nbformat_minor": 2
}
